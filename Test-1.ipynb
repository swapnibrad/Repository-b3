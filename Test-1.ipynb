{
 "cells": [
  {
   "cell_type": "code",
   "execution_count": 1,
   "id": "49b3a9bc-21e2-43a2-a39d-d5d2e2a28b3f",
   "metadata": {},
   "outputs": [
    {
     "name": "stdout",
     "output_type": "stream",
     "text": [
      "hello\n"
     ]
    }
   ],
   "source": [
    "print('hello')"
   ]
  },
  {
   "cell_type": "code",
   "execution_count": 2,
   "id": "f13de900-77ad-494d-a7aa-253a0d265bca",
   "metadata": {},
   "outputs": [
    {
     "data": {
      "text/plain": [
       "5"
      ]
     },
     "execution_count": 2,
     "metadata": {},
     "output_type": "execute_result"
    }
   ],
   "source": [
    "1 + 4"
   ]
  },
  {
   "cell_type": "code",
   "execution_count": 3,
   "id": "12aad4aa-a645-4662-961a-41b3b976a90e",
   "metadata": {},
   "outputs": [],
   "source": [
    "z = 4\n",
    "y = 3"
   ]
  },
  {
   "cell_type": "code",
   "execution_count": 4,
   "id": "c40a8d18-2e19-4b0c-b5b8-162976d52f9f",
   "metadata": {},
   "outputs": [],
   "source": [
    "x = z + y"
   ]
  },
  {
   "cell_type": "code",
   "execution_count": 5,
   "id": "afa861da-6180-4d8e-a973-ddebb33b76c4",
   "metadata": {},
   "outputs": [],
   "source": [
    "x = x + x"
   ]
  },
  {
   "cell_type": "code",
   "execution_count": 6,
   "id": "057a7876-16e0-41be-ad3d-061131d74f35",
   "metadata": {},
   "outputs": [],
   "source": [
    "z = 4\n",
    "y = 3"
   ]
  },
  {
   "cell_type": "code",
   "execution_count": 7,
   "id": "d4c2b765-1d47-4107-95d6-6f490b9f3dbb",
   "metadata": {},
   "outputs": [],
   "source": [
    "x = z + y"
   ]
  },
  {
   "cell_type": "code",
   "execution_count": 8,
   "id": "e66ccc97-bad6-49d2-866f-33f86df3d079",
   "metadata": {},
   "outputs": [
    {
     "data": {
      "text/plain": [
       "7"
      ]
     },
     "execution_count": 8,
     "metadata": {},
     "output_type": "execute_result"
    }
   ],
   "source": [
    "x"
   ]
  },
  {
   "cell_type": "code",
   "execution_count": 9,
   "id": "2222d2ef-1aca-4760-a9a3-6e928e425d75",
   "metadata": {},
   "outputs": [],
   "source": [
    "x = x+x"
   ]
  },
  {
   "cell_type": "code",
   "execution_count": 10,
   "id": "e2c377bd-e7d2-43be-8bec-780a67102bd1",
   "metadata": {},
   "outputs": [
    {
     "data": {
      "text/plain": [
       "14"
      ]
     },
     "execution_count": 10,
     "metadata": {},
     "output_type": "execute_result"
    }
   ],
   "source": [
    "x"
   ]
  },
  {
   "cell_type": "code",
   "execution_count": 11,
   "id": "de4f1db9-dd30-4b0b-b638-9bbeba8f4f31",
   "metadata": {},
   "outputs": [],
   "source": [
    "# STRING"
   ]
  },
  {
   "cell_type": "code",
   "execution_count": null,
   "id": "eb99de86-1bfa-43f6-ab4c-39336847bd12",
   "metadata": {},
   "outputs": [],
   "source": []
  },
  {
   "cell_type": "code",
   "execution_count": 12,
   "id": "abeb4f11-8c99-4fda-9516-1241750d8a10",
   "metadata": {},
   "outputs": [],
   "source": [
    "A = 'HELLO'"
   ]
  },
  {
   "cell_type": "code",
   "execution_count": 13,
   "id": "61567d0d-c8c6-4725-b3a7-5d498fae4dea",
   "metadata": {},
   "outputs": [
    {
     "data": {
      "text/plain": [
       "'HELLO'"
      ]
     },
     "execution_count": 13,
     "metadata": {},
     "output_type": "execute_result"
    }
   ],
   "source": [
    "A"
   ]
  },
  {
   "cell_type": "code",
   "execution_count": 14,
   "id": "3bf467b6-782f-48ee-806d-033c704550cd",
   "metadata": {},
   "outputs": [
    {
     "name": "stdout",
     "output_type": "stream",
     "text": [
      "HELLO\n"
     ]
    }
   ],
   "source": [
    "print(A)"
   ]
  },
  {
   "cell_type": "code",
   "execution_count": 15,
   "id": "1e4342df-6cc0-4ec1-9ffb-093220f9bdf8",
   "metadata": {},
   "outputs": [
    {
     "data": {
      "text/plain": [
       "14"
      ]
     },
     "execution_count": 15,
     "metadata": {},
     "output_type": "execute_result"
    }
   ],
   "source": [
    "x"
   ]
  },
  {
   "cell_type": "code",
   "execution_count": 16,
   "id": "856227b3-2c7e-4e81-8d91-5a14e37f9ed4",
   "metadata": {},
   "outputs": [
    {
     "data": {
      "text/plain": [
       "'HELLO, my num is 14'"
      ]
     },
     "execution_count": 16,
     "metadata": {},
     "output_type": "execute_result"
    }
   ],
   "source": [
    "'{}, my num is {}'.format(A,x)"
   ]
  },
  {
   "cell_type": "code",
   "execution_count": 17,
   "id": "9a504e82-5d5c-448c-804f-921323fe36e2",
   "metadata": {},
   "outputs": [],
   "source": [
    "name = 'Nayan'"
   ]
  },
  {
   "cell_type": "code",
   "execution_count": 18,
   "id": "3e328cc9-dd4e-4e36-9392-d59231e61668",
   "metadata": {},
   "outputs": [],
   "source": [
    "sname = 'Nibrad'"
   ]
  },
  {
   "cell_type": "code",
   "execution_count": 19,
   "id": "3f501601-2973-42f8-a757-8f4a811a2d1b",
   "metadata": {},
   "outputs": [],
   "source": [
    "Age = 22"
   ]
  },
  {
   "cell_type": "code",
   "execution_count": 20,
   "id": "c1b42aeb-ff7e-49c7-8459-60d26d3dba74",
   "metadata": {},
   "outputs": [
    {
     "data": {
      "text/plain": [
       "'HELLO, My name is Nayan Nibrad, and I am 22 years old'"
      ]
     },
     "execution_count": 20,
     "metadata": {},
     "output_type": "execute_result"
    }
   ],
   "source": [
    "'{}, My name is {} {}, and I am {} years old'.format(A,name,sname,Age)"
   ]
  },
  {
   "cell_type": "code",
   "execution_count": 21,
   "id": "c8412bb3-c7a9-4625-a1b2-8226b6316bc2",
   "metadata": {},
   "outputs": [
    {
     "ename": "IndexError",
     "evalue": "Replacement index 4 out of range for positional args tuple",
     "output_type": "error",
     "traceback": [
      "\u001b[1;31m---------------------------------------------------------------------------\u001b[0m",
      "\u001b[1;31mIndexError\u001b[0m                                Traceback (most recent call last)",
      "Cell \u001b[1;32mIn[21], line 1\u001b[0m\n\u001b[1;32m----> 1\u001b[0m \u001b[38;5;28mprint\u001b[39m(\u001b[38;5;124m'\u001b[39m\u001b[38;5;132;01m{1}\u001b[39;00m\u001b[38;5;124m, My name is \u001b[39m\u001b[38;5;132;01m{2}\u001b[39;00m\u001b[38;5;124m \u001b[39m\u001b[38;5;132;01m{3}\u001b[39;00m\u001b[38;5;124m, and I am \u001b[39m\u001b[38;5;132;01m{4}\u001b[39;00m\u001b[38;5;124m years old\u001b[39m\u001b[38;5;124m'\u001b[39m\u001b[38;5;241m.\u001b[39mformat(\u001b[38;5;241m1\u001b[39m\u001b[38;5;241m==\u001b[39mA,\u001b[38;5;241m2\u001b[39m\u001b[38;5;241m==\u001b[39mname,\u001b[38;5;241m3\u001b[39m\u001b[38;5;241m==\u001b[39msname,\u001b[38;5;241m4\u001b[39m\u001b[38;5;241m==\u001b[39mAge))\n",
      "\u001b[1;31mIndexError\u001b[0m: Replacement index 4 out of range for positional args tuple"
     ]
    }
   ],
   "source": [
    "print('{1}, My name is {2} {3}, and I am {4} years old'.format(1==A,2==name,3==sname,4==Age))"
   ]
  },
  {
   "cell_type": "code",
   "execution_count": null,
   "id": "267ed06d-b7f7-445c-938f-5ee00552113b",
   "metadata": {},
   "outputs": [],
   "source": [
    "print('{aa}, My name is {bb} {cc}, and I am {dd} years old'.format(aa=A,bb=name,cc=sname,dd=Age))"
   ]
  },
  {
   "cell_type": "code",
   "execution_count": null,
   "id": "f0986fc4-6e6e-488c-8114-ab86692b05f9",
   "metadata": {},
   "outputs": [],
   "source": [
    "sring = 'abcdefghijklmnopqrstuvwxyz'"
   ]
  },
  {
   "cell_type": "code",
   "execution_count": null,
   "id": "b5526300-ccd1-4f1c-a6ec-bbe54c3513fc",
   "metadata": {},
   "outputs": [],
   "source": [
    "sring[20:]"
   ]
  },
  {
   "cell_type": "code",
   "execution_count": null,
   "id": "1e151593-a3db-4105-96f5-a4ea1d961f76",
   "metadata": {},
   "outputs": [],
   "source": [
    "sring[10:20]"
   ]
  },
  {
   "cell_type": "code",
   "execution_count": null,
   "id": "0f504255-2a97-44cd-8253-3a19d0b5f0ab",
   "metadata": {},
   "outputs": [],
   "source": [
    "# string"
   ]
  },
  {
   "cell_type": "code",
   "execution_count": null,
   "id": "35d6b3e2-3082-430e-9655-d4750298ed35",
   "metadata": {},
   "outputs": [],
   "source": [
    "list = ['tom','cat','jerry']"
   ]
  },
  {
   "cell_type": "code",
   "execution_count": null,
   "id": "ebe95a22-b480-45fe-86b4-8e6ff458f626",
   "metadata": {},
   "outputs": [],
   "source": [
    "list.append('mouse')"
   ]
  },
  {
   "cell_type": "code",
   "execution_count": null,
   "id": "0070728d-4205-4ab3-8b94-77ff5e0d2840",
   "metadata": {},
   "outputs": [],
   "source": [
    "list"
   ]
  },
  {
   "cell_type": "code",
   "execution_count": null,
   "id": "c3020747-2c67-4c52-944a-5d6e71280486",
   "metadata": {},
   "outputs": [],
   "source": [
    "list[3]"
   ]
  },
  {
   "cell_type": "code",
   "execution_count": null,
   "id": "fc354a90-33e8-4dcb-b706-02d28720830a",
   "metadata": {},
   "outputs": [],
   "source": [
    "list[0:2]"
   ]
  },
  {
   "cell_type": "code",
   "execution_count": null,
   "id": "a683a71e-048d-4235-842e-b555a7c5c384",
   "metadata": {},
   "outputs": [],
   "source": [
    "list[0] = 'Tommy'"
   ]
  },
  {
   "cell_type": "code",
   "execution_count": null,
   "id": "f3c66de9-ee54-4cd0-b558-5e8b35363029",
   "metadata": {},
   "outputs": [],
   "source": [
    "list"
   ]
  },
  {
   "cell_type": "code",
   "execution_count": null,
   "id": "3a30572a-3c10-4049-a643-4780b57c496d",
   "metadata": {},
   "outputs": [],
   "source": [
    "nest = [1,2,3,[4,5,['target']]]"
   ]
  },
  {
   "cell_type": "code",
   "execution_count": null,
   "id": "427813ba-f14f-4448-b7a1-835693169dcb",
   "metadata": {},
   "outputs": [],
   "source": [
    "nest[3]"
   ]
  },
  {
   "cell_type": "code",
   "execution_count": null,
   "id": "11f6d778-067a-4026-9527-175c8e9355d8",
   "metadata": {},
   "outputs": [],
   "source": [
    "nest[3][2][0]"
   ]
  },
  {
   "cell_type": "code",
   "execution_count": null,
   "id": "30cc8d03-0ecf-41b2-b599-1aa36ced0f94",
   "metadata": {},
   "outputs": [],
   "source": [
    "print(nest[3][2][0])"
   ]
  },
  {
   "cell_type": "code",
   "execution_count": null,
   "id": "c1a0bd64-9f2a-4c0e-b89d-eb2d705aba36",
   "metadata": {},
   "outputs": [],
   "source": [
    "print(nest[3][2][0])"
   ]
  },
  {
   "cell_type": "code",
   "execution_count": null,
   "id": "71ceb325-cab0-4b95-bf35-d1f199066dc2",
   "metadata": {},
   "outputs": [],
   "source": [
    "list.append('nayan')"
   ]
  },
  {
   "cell_type": "code",
   "execution_count": null,
   "id": "1c883369-0328-47d3-a3f8-30dd4f1d922a",
   "metadata": {},
   "outputs": [],
   "source": [
    "list"
   ]
  },
  {
   "cell_type": "code",
   "execution_count": null,
   "id": "ad3118f5-6ce6-4b3f-bb0e-02564b5f5775",
   "metadata": {},
   "outputs": [],
   "source": [
    "# Dictionary  -> key = value"
   ]
  },
  {
   "cell_type": "code",
   "execution_count": null,
   "id": "8e5a2c6c-3bd3-45c9-8fb1-cd9c01436e89",
   "metadata": {},
   "outputs": [],
   "source": [
    "d = {'k1':'value','k2':'123'}"
   ]
  },
  {
   "cell_type": "code",
   "execution_count": null,
   "id": "d2e99b31-768f-403e-a1d0-e6910e984218",
   "metadata": {},
   "outputs": [],
   "source": [
    "d['k1']"
   ]
  },
  {
   "cell_type": "code",
   "execution_count": null,
   "id": "0656ca9b-408f-4b5e-889e-6257cef5e6ef",
   "metadata": {},
   "outputs": [],
   "source": [
    "print(d['k2'])"
   ]
  },
  {
   "cell_type": "code",
   "execution_count": null,
   "id": "c76deb25-60a7-4ea7-8dbe-c92855c511f9",
   "metadata": {},
   "outputs": [],
   "source": [
    "d = {'k1':[11,12,13,14]}"
   ]
  },
  {
   "cell_type": "code",
   "execution_count": null,
   "id": "671b6107-d761-4dad-a3e4-a20e46970ceb",
   "metadata": {},
   "outputs": [],
   "source": [
    "d['k1'][0]"
   ]
  },
  {
   "cell_type": "code",
   "execution_count": null,
   "id": "bd572ccb-c804-4681-bfda-e8cfdfec97e0",
   "metadata": {},
   "outputs": [],
   "source": [
    "print(d['k1'][1])"
   ]
  },
  {
   "cell_type": "code",
   "execution_count": null,
   "id": "3df3acf2-2d2a-4e2c-ab78-66ae73e4d78a",
   "metadata": {},
   "outputs": [],
   "source": [
    "d = {'e1':{'inkey':[101,102,103]}}"
   ]
  },
  {
   "cell_type": "code",
   "execution_count": null,
   "id": "d604d511-6aa2-481a-8a26-b5ba9a2cb682",
   "metadata": {},
   "outputs": [],
   "source": [
    "d"
   ]
  },
  {
   "cell_type": "code",
   "execution_count": null,
   "id": "dbf83d1d-22d7-48b8-9ef9-d7c0c7a8de71",
   "metadata": {},
   "outputs": [],
   "source": [
    "d['e1']['inkey'][2]"
   ]
  },
  {
   "cell_type": "code",
   "execution_count": null,
   "id": "7b160961-5469-4274-8f6e-040822c5452b",
   "metadata": {},
   "outputs": [],
   "source": [
    "t = (1,2,3)"
   ]
  },
  {
   "cell_type": "code",
   "execution_count": null,
   "id": "3896c21c-050b-4e2e-8740-51368ac77a9a",
   "metadata": {},
   "outputs": [],
   "source": [
    "t[0]"
   ]
  },
  {
   "cell_type": "code",
   "execution_count": null,
   "id": "a4a2b021-ecef-4b7b-9382-1d8c6b309fdc",
   "metadata": {},
   "outputs": [],
   "source": [
    "# tuple is inmutable | list is mutiable"
   ]
  },
  {
   "cell_type": "code",
   "execution_count": null,
   "id": "f1e49503-4e30-46d3-a470-167363bec243",
   "metadata": {},
   "outputs": [],
   "source": [
    "t[0] = 'new'"
   ]
  },
  {
   "cell_type": "code",
   "execution_count": null,
   "id": "de3c615d-24e8-4536-9d06-43f7061b8582",
   "metadata": {},
   "outputs": [],
   "source": [
    "nest"
   ]
  },
  {
   "cell_type": "code",
   "execution_count": null,
   "id": "efdd3f06-d689-4450-bd3c-f2cb5dbfe774",
   "metadata": {},
   "outputs": [],
   "source": [
    "nest[1] = 'new'"
   ]
  },
  {
   "cell_type": "code",
   "execution_count": null,
   "id": "991cb910-2723-4078-9351-0bc1b60b9759",
   "metadata": {},
   "outputs": [],
   "source": [
    "nest"
   ]
  },
  {
   "cell_type": "code",
   "execution_count": null,
   "id": "936f3716-e580-42d6-9eea-d90748e59fe5",
   "metadata": {},
   "outputs": [],
   "source": [
    "# set"
   ]
  },
  {
   "cell_type": "code",
   "execution_count": null,
   "id": "aa8621a1-0d96-4247-843b-fa0acba7b6d2",
   "metadata": {},
   "outputs": [],
   "source": [
    "set([1,1,3,3,3,5,5,5,5,5,5,5,5,9])"
   ]
  },
  {
   "cell_type": "code",
   "execution_count": null,
   "id": "654e0912-0f6e-4434-80d7-7d9fcef4709b",
   "metadata": {},
   "outputs": [],
   "source": [
    "s = {1,2,3,4,5}"
   ]
  },
  {
   "cell_type": "code",
   "execution_count": null,
   "id": "2d641d28-0f82-4ffd-acb5-aadeb9cc47b6",
   "metadata": {},
   "outputs": [],
   "source": [
    "s.add(6)"
   ]
  },
  {
   "cell_type": "code",
   "execution_count": null,
   "id": "037c165c-a966-473e-b73f-f68e0354cbe9",
   "metadata": {},
   "outputs": [],
   "source": [
    "s"
   ]
  },
  {
   "cell_type": "code",
   "execution_count": null,
   "id": "c3239da3-3fe2-4c2a-860f-a99452b88367",
   "metadata": {},
   "outputs": [],
   "source": [
    "s.remove(6)"
   ]
  },
  {
   "cell_type": "code",
   "execution_count": null,
   "id": "abfd6e39-6d1b-46c6-890c-dae240ae15ec",
   "metadata": {},
   "outputs": [],
   "source": [
    "s"
   ]
  },
  {
   "cell_type": "code",
   "execution_count": null,
   "id": "dba6a6b8-1dd8-48e8-bffc-e59b800f23f5",
   "metadata": {},
   "outputs": [],
   "source": [
    "(12 < 14)"
   ]
  },
  {
   "cell_type": "code",
   "execution_count": null,
   "id": "2b21a9e7-44be-406b-a7be-e2ff55c294a3",
   "metadata": {},
   "outputs": [],
   "source": [
    "(12 < 14) and (12 > 3)"
   ]
  },
  {
   "cell_type": "code",
   "execution_count": null,
   "id": "6f603f58-8ba5-4709-af4d-62c78e3153a3",
   "metadata": {},
   "outputs": [],
   "source": [
    "(12 < 14) and (12 < 3)"
   ]
  },
  {
   "cell_type": "code",
   "execution_count": null,
   "id": "f53d41df-dabc-438c-adaa-e9b6c3a7a2c2",
   "metadata": {},
   "outputs": [],
   "source": [
    "(12 < 14) or (12 < 3)"
   ]
  },
  {
   "cell_type": "code",
   "execution_count": null,
   "id": "c983a6c6-12a5-46da-8457-90cf8fbb311e",
   "metadata": {},
   "outputs": [],
   "source": [
    "if 1<2:\n",
    " print (nest)"
   ]
  },
  {
   "cell_type": "code",
   "execution_count": null,
   "id": "21bcbb7a-b9b5-4ca6-ad56-2a1d53211a60",
   "metadata": {},
   "outputs": [],
   "source": [
    "if 1<2:\n",
    " print (nest['2'])"
   ]
  },
  {
   "cell_type": "code",
   "execution_count": null,
   "id": "77bb72ef-249b-4290-982c-e436f15c052a",
   "metadata": {},
   "outputs": [],
   "source": []
  },
  {
   "cell_type": "code",
   "execution_count": null,
   "id": "f20a2b11-4d23-400f-9cf2-781baa7261f4",
   "metadata": {},
   "outputs": [],
   "source": [
    "print (d['e1']['inkey'][2])"
   ]
  },
  {
   "cell_type": "code",
   "execution_count": null,
   "id": "c3211294-a267-46ae-b9eb-6632dcc9ae0c",
   "metadata": {},
   "outputs": [],
   "source": [
    "if 1<2:\n",
    "    print (d['e1']['inkey'][2])"
   ]
  },
  {
   "cell_type": "code",
   "execution_count": null,
   "id": "a7af6921-6e09-4f64-ba13-274ce6f2b5a2",
   "metadata": {},
   "outputs": [],
   "source": [
    "if True:\n",
    "    print('Perform Code')"
   ]
  },
  {
   "cell_type": "code",
   "execution_count": null,
   "id": "6de9be81-f4c5-4290-9b4b-2cdd73bfe258",
   "metadata": {},
   "outputs": [],
   "source": [
    " if True:\n",
    "    q = 2 * 3"
   ]
  },
  {
   "cell_type": "code",
   "execution_count": null,
   "id": "8dcf2cfd-6053-48a7-a968-e55a3642cdba",
   "metadata": {},
   "outputs": [],
   "source": [
    "q"
   ]
  },
  {
   "cell_type": "code",
   "execution_count": null,
   "id": "3f4a2aba-cd02-4c89-9ed6-7e6ca45a3f36",
   "metadata": {},
   "outputs": [],
   "source": [
    "x"
   ]
  },
  {
   "cell_type": "code",
   "execution_count": null,
   "id": "f187da15-86cd-4173-b1fd-481b89c0c79a",
   "metadata": {},
   "outputs": [],
   "source": [
    "if 1 != 1:\n",
    "    print(x)\n",
    "elif 3 ==3:\n",
    "    print(q)\n",
    "else:\n",
    "    print ('false')"
   ]
  },
  {
   "cell_type": "code",
   "execution_count": null,
   "id": "46d0968b-3f9f-4e72-bd96-d1be9b050a64",
   "metadata": {},
   "outputs": [],
   "source": [
    "1!=3"
   ]
  },
  {
   "cell_type": "code",
   "execution_count": null,
   "id": "fc6318f2-101e-4d3f-931b-0113aeef1212",
   "metadata": {},
   "outputs": [],
   "source": [
    "# for and while loop\n",
    "    "
   ]
  },
  {
   "cell_type": "code",
   "execution_count": null,
   "id": "56e01cfe-38f3-422c-9c86-c342be7964f6",
   "metadata": {},
   "outputs": [],
   "source": [
    "seq = [1,2,3,4,5,6]"
   ]
  },
  {
   "cell_type": "code",
   "execution_count": null,
   "id": "2271f38f-fe25-44ae-8b57-7213cc159492",
   "metadata": {},
   "outputs": [],
   "source": [
    "for a in seq:\n",
    "    print(a)"
   ]
  },
  {
   "cell_type": "code",
   "execution_count": null,
   "id": "400db990-880f-43d8-82b5-9f2e0689ee3f",
   "metadata": {},
   "outputs": [],
   "source": [
    "for b in seq:\n",
    "    print('x')"
   ]
  },
  {
   "cell_type": "code",
   "execution_count": null,
   "id": "f260deb7-c49f-4c05-bdc6-1f3b06541341",
   "metadata": {},
   "outputs": [],
   "source": [
    "i = 1\n",
    "while i < 5:\n",
    "    print('i is: {}'.format(i))\n",
    "    i = i+1"
   ]
  },
  {
   "cell_type": "code",
   "execution_count": null,
   "id": "1b90b1b3-bff8-445e-ba13-00c1a60eb328",
   "metadata": {},
   "outputs": [],
   "source": [
    "i = 1\n",
    "while i < 5:\n",
    "    print('i is: {}'.format(i))\n",
    "    i = i+1"
   ]
  },
  {
   "cell_type": "code",
   "execution_count": null,
   "id": "a12b93a1-9887-4920-89fe-2b70028a2423",
   "metadata": {},
   "outputs": [],
   "source": [
    "for c in seq:\n",
    "    print(x)"
   ]
  },
  {
   "cell_type": "code",
   "execution_count": null,
   "id": "8c4ee9ea-ef03-48ea-9ad2-175c4f44e8e7",
   "metadata": {},
   "outputs": [],
   "source": [
    "seq = [1,2,3,4,5,6]"
   ]
  },
  {
   "cell_type": "code",
   "execution_count": null,
   "id": "28ac199e-0538-4f52-a332-892ba2096222",
   "metadata": {},
   "outputs": [],
   "source": [
    "i = 1\n",
    "while i < 5:\n",
    "    print('i is: {}'.format(i))\n",
    "    i = i+1"
   ]
  },
  {
   "cell_type": "code",
   "execution_count": null,
   "id": "801caade-49f7-4c9d-9138-7a067d3d09d7",
   "metadata": {},
   "outputs": [],
   "source": [
    "for b in seq:\n",
    "    print('x')"
   ]
  },
  {
   "cell_type": "code",
   "execution_count": null,
   "id": "2aeb10dd-a670-41e0-a84a-7ad571f2216e",
   "metadata": {},
   "outputs": [],
   "source": [
    "range(0,10)"
   ]
  },
  {
   "cell_type": "code",
   "execution_count": null,
   "id": "eed2124f-6a74-48c8-af52-6a2abd6b23db",
   "metadata": {},
   "outputs": [],
   "source": [
    "list(range(0,6))"
   ]
  },
  {
   "cell_type": "code",
   "execution_count": null,
   "id": "cddc5296-5aeb-4569-9865-a6e9d68129e8",
   "metadata": {},
   "outputs": [],
   "source": [
    "list(range(10))"
   ]
  },
  {
   "cell_type": "code",
   "execution_count": 7,
   "id": "cf332033-2001-4e8d-8cd4-efdc567628db",
   "metadata": {},
   "outputs": [],
   "source": [
    "x = [11,2,3,4,5]"
   ]
  },
  {
   "cell_type": "code",
   "execution_count": 9,
   "id": "5b443ef6-6143-43ff-bbc7-6b95262869c6",
   "metadata": {},
   "outputs": [],
   "source": [
    "out = []\n",
    "for n in x:\n",
    "  out.append(n**2)  "
   ]
  },
  {
   "cell_type": "code",
   "execution_count": 11,
   "id": "d0498be4-f0be-4186-9918-b296018c230a",
   "metadata": {},
   "outputs": [
    {
     "name": "stdout",
     "output_type": "stream",
     "text": [
      "[121, 4, 9, 16, 25]\n"
     ]
    }
   ],
   "source": [
    "print(out)"
   ]
  },
  {
   "cell_type": "code",
   "execution_count": 13,
   "id": "c8245030-fa96-4e6c-86eb-68743718d306",
   "metadata": {},
   "outputs": [],
   "source": [
    "notout = []\n",
    "for m in out:\n",
    "  notout.append(m**2)"
   ]
  },
  {
   "cell_type": "code",
   "execution_count": 15,
   "id": "67dd6a3a-f5d3-432c-8e80-21558e45ed29",
   "metadata": {},
   "outputs": [
    {
     "name": "stdout",
     "output_type": "stream",
     "text": [
      "[14641, 16, 81, 256, 625]\n"
     ]
    }
   ],
   "source": [
    "print(notout)"
   ]
  },
  {
   "cell_type": "code",
   "execution_count": 1,
   "id": "3d87e1a0-35bc-4ad2-bbcc-0f0614e56827",
   "metadata": {},
   "outputs": [
    {
     "data": {
      "text/plain": [
       "True"
      ]
     },
     "execution_count": 1,
     "metadata": {},
     "output_type": "execute_result"
    }
   ],
   "source": [
    "1!=3"
   ]
  },
  {
   "cell_type": "code",
   "execution_count": 17,
   "id": "0b1f790a-e7a7-415a-bce9-ae2febd3f711",
   "metadata": {},
   "outputs": [
    {
     "data": {
      "text/plain": [
       "[121, 4, 9, 16, 25]"
      ]
     },
     "execution_count": 17,
     "metadata": {},
     "output_type": "execute_result"
    }
   ],
   "source": [
    "[num**2 for num in x]"
   ]
  },
  {
   "cell_type": "code",
   "execution_count": 21,
   "id": "b0a47061-749c-4f63-ad36-a50948792b38",
   "metadata": {},
   "outputs": [],
   "source": [
    "p = [num**2 for num in x]"
   ]
  },
  {
   "cell_type": "code",
   "execution_count": 23,
   "id": "badf5976-c41c-45b0-9351-e3cbc436f0f0",
   "metadata": {},
   "outputs": [
    {
     "name": "stdout",
     "output_type": "stream",
     "text": [
      "[121, 4, 9, 16, 25]\n"
     ]
    }
   ],
   "source": [
    "print(p)"
   ]
  },
  {
   "cell_type": "code",
   "execution_count": 25,
   "id": "b7eccf6c-0d89-4c5e-8fcc-cb4a3ae9657f",
   "metadata": {},
   "outputs": [],
   "source": [
    "# calling function"
   ]
  },
  {
   "cell_type": "code",
   "execution_count": 45,
   "id": "bdb80bf8-b3db-4048-9122-d95c462808a0",
   "metadata": {},
   "outputs": [],
   "source": [
    "def functon(name='default name',dob=\"2025\"):\n",
    "    print('Hello '+name+dob)"
   ]
  },
  {
   "cell_type": "code",
   "execution_count": 47,
   "id": "614691e2-6e7a-4490-b41c-e0e24f259941",
   "metadata": {},
   "outputs": [
    {
     "name": "stdout",
     "output_type": "stream",
     "text": [
      "Hello default name2025\n"
     ]
    }
   ],
   "source": [
    "functon()"
   ]
  },
  {
   "cell_type": "code",
   "execution_count": 57,
   "id": "db6b6e7e-15d8-43f9-bda2-1e23ad3c2885",
   "metadata": {},
   "outputs": [],
   "source": [
    "def sq(nm):\n",
    "    return nm**4"
   ]
  },
  {
   "cell_type": "code",
   "execution_count": 59,
   "id": "8e93846e-bfa4-4e40-926f-66e0dd58e4d0",
   "metadata": {},
   "outputs": [],
   "source": [
    "a = sq(5)"
   ]
  },
  {
   "cell_type": "code",
   "execution_count": 61,
   "id": "31473a3c-84be-41b0-b321-76811e23d468",
   "metadata": {},
   "outputs": [
    {
     "data": {
      "text/plain": [
       "625"
      ]
     },
     "execution_count": 61,
     "metadata": {},
     "output_type": "execute_result"
    }
   ],
   "source": [
    "a"
   ]
  },
  {
   "cell_type": "code",
   "execution_count": 63,
   "id": "bc62f1cd-df51-4f74-b011-23d4be78525f",
   "metadata": {},
   "outputs": [
    {
     "data": {
      "text/plain": [
       "20736"
      ]
     },
     "execution_count": 63,
     "metadata": {},
     "output_type": "execute_result"
    }
   ],
   "source": [
    "sq(12)"
   ]
  },
  {
   "cell_type": "code",
   "execution_count": 65,
   "id": "0fda4538-5037-4bf0-bafa-0409bb38f15c",
   "metadata": {},
   "outputs": [
    {
     "data": {
      "text/plain": [
       "16"
      ]
     },
     "execution_count": 65,
     "metadata": {},
     "output_type": "execute_result"
    }
   ],
   "source": [
    "sq(2)"
   ]
  },
  {
   "cell_type": "code",
   "execution_count": 1,
   "id": "b5c405b4-e217-4e92-8ac6-3cd2fa594aa1",
   "metadata": {},
   "outputs": [],
   "source": [
    "def times(var):\n",
    "    return var*3"
   ]
  },
  {
   "cell_type": "code",
   "execution_count": 3,
   "id": "db60ab7e-0303-4ff4-8fbf-538be8912e00",
   "metadata": {},
   "outputs": [
    {
     "data": {
      "text/plain": [
       "21"
      ]
     },
     "execution_count": 3,
     "metadata": {},
     "output_type": "execute_result"
    }
   ],
   "source": [
    "times(7)"
   ]
  },
  {
   "cell_type": "code",
   "execution_count": 71,
   "id": "774134d4-46f9-4e58-8ae6-0ace9f76f4cd",
   "metadata": {},
   "outputs": [],
   "source": [
    "# map()"
   ]
  },
  {
   "cell_type": "code",
   "execution_count": 5,
   "id": "d252fa40-bbea-45c6-84de-644eecbbdfd7",
   "metadata": {},
   "outputs": [],
   "source": [
    "seq = [1,2,3,4,5]"
   ]
  },
  {
   "cell_type": "code",
   "execution_count": 11,
   "id": "11dacf96-208b-49d7-b654-e475da7aaa9a",
   "metadata": {},
   "outputs": [
    {
     "name": "stdout",
     "output_type": "stream",
     "text": [
      "[1, 2, 3, 4, 5]\n"
     ]
    }
   ],
   "source": [
    "print(seq)"
   ]
  },
  {
   "cell_type": "code",
   "execution_count": 13,
   "id": "a76b0140-3d7c-4b3f-9463-635b8f8fd5b9",
   "metadata": {},
   "outputs": [
    {
     "data": {
      "text/plain": [
       "[3, 6, 9, 12, 15]"
      ]
     },
     "execution_count": 13,
     "metadata": {},
     "output_type": "execute_result"
    }
   ],
   "source": [
    "list(map(times,seq))"
   ]
  },
  {
   "cell_type": "code",
   "execution_count": 15,
   "id": "bd0d33da-14b7-48a7-8ef9-a53b2c746e3d",
   "metadata": {},
   "outputs": [],
   "source": [
    "s = 'Tailor-made HOME loans to suit your requirements.'"
   ]
  },
  {
   "cell_type": "code",
   "execution_count": 17,
   "id": "5a1732c9-9386-4edd-8ef2-ea612298ee1b",
   "metadata": {},
   "outputs": [
    {
     "data": {
      "text/plain": [
       "'tailor-made home loans to suit your requirements.'"
      ]
     },
     "execution_count": 17,
     "metadata": {},
     "output_type": "execute_result"
    }
   ],
   "source": [
    "s.lower()"
   ]
  },
  {
   "cell_type": "code",
   "execution_count": 19,
   "id": "b2e17ea0-4b74-46b7-94ba-b2bcfd7578e8",
   "metadata": {},
   "outputs": [
    {
     "data": {
      "text/plain": [
       "'TAILOR-MADE HOME LOANS TO SUIT YOUR REQUIREMENTS.'"
      ]
     },
     "execution_count": 19,
     "metadata": {},
     "output_type": "execute_result"
    }
   ],
   "source": [
    "s.upper()"
   ]
  },
  {
   "cell_type": "code",
   "execution_count": 21,
   "id": "a0810fdf-8552-4811-b2db-cae63d7119e3",
   "metadata": {},
   "outputs": [
    {
     "data": {
      "text/plain": [
       "['Tailor-made', 'HOME', 'loans', 'to', 'suit', 'your', 'requirements.']"
      ]
     },
     "execution_count": 21,
     "metadata": {},
     "output_type": "execute_result"
    }
   ],
   "source": [
    "s.split()"
   ]
  },
  {
   "cell_type": "code",
   "execution_count": 23,
   "id": "592a5b80-5e3c-42c8-80e5-302444e0cf16",
   "metadata": {},
   "outputs": [],
   "source": [
    "tweet = 'Login to YOURS account to conveniently manage your loan.'"
   ]
  },
  {
   "cell_type": "code",
   "execution_count": 127,
   "id": "af517da7-5bac-4217-a65c-fe69120f4e78",
   "metadata": {},
   "outputs": [
    {
     "data": {
      "text/plain": [
       "['Login',\n",
       " 'to',\n",
       " 'YOURS',\n",
       " 'account',\n",
       " 'to',\n",
       " 'conveniently',\n",
       " 'manage',\n",
       " 'your',\n",
       " 'loan']"
      ]
     },
     "execution_count": 127,
     "metadata": {},
     "output_type": "execute_result"
    }
   ],
   "source": [
    "tweet.split()"
   ]
  },
  {
   "cell_type": "code",
   "execution_count": 129,
   "id": "50f14bb8-a6eb-4f2f-8524-32561ca74147",
   "metadata": {},
   "outputs": [
    {
     "data": {
      "text/plain": [
       "'login to yours account to conveniently manage your loan'"
      ]
     },
     "execution_count": 129,
     "metadata": {},
     "output_type": "execute_result"
    }
   ],
   "source": [
    "tweet.lower()"
   ]
  },
  {
   "cell_type": "code",
   "execution_count": 147,
   "id": "d9249e66-cb33-4d13-a7c8-c0c0682f7926",
   "metadata": {},
   "outputs": [
    {
     "data": {
      "text/plain": [
       "'Login '"
      ]
     },
     "execution_count": 147,
     "metadata": {},
     "output_type": "execute_result"
    }
   ],
   "source": [
    "tweet.split('to')[0]"
   ]
  },
  {
   "cell_type": "code",
   "execution_count": 149,
   "id": "d7942abb-d9fc-45b2-8974-616102d0d8c7",
   "metadata": {},
   "outputs": [
    {
     "data": {
      "text/plain": [
       "' YOURS account '"
      ]
     },
     "execution_count": 149,
     "metadata": {},
     "output_type": "execute_result"
    }
   ],
   "source": [
    "tweet.split('to')[1]"
   ]
  },
  {
   "cell_type": "code",
   "execution_count": 151,
   "id": "de6038d2-b176-4e2e-ba36-d3d50e481ae9",
   "metadata": {},
   "outputs": [
    {
     "data": {
      "text/plain": [
       "' conveniently manage your loan.'"
      ]
     },
     "execution_count": 151,
     "metadata": {},
     "output_type": "execute_result"
    }
   ],
   "source": [
    "tweet.split('to')[2]"
   ]
  },
  {
   "cell_type": "code",
   "execution_count": 153,
   "id": "0a7d684b-559b-4ace-a6ca-7dd0a3d58fb1",
   "metadata": {},
   "outputs": [],
   "source": [
    "dd = {'a':1,'b':2}"
   ]
  },
  {
   "cell_type": "code",
   "execution_count": 155,
   "id": "c313e5e1-2fb0-4863-952f-86fe8c017713",
   "metadata": {},
   "outputs": [
    {
     "data": {
      "text/plain": [
       "{'a': 1, 'b': 2}"
      ]
     },
     "execution_count": 155,
     "metadata": {},
     "output_type": "execute_result"
    }
   ],
   "source": [
    "dd"
   ]
  },
  {
   "cell_type": "code",
   "execution_count": 157,
   "id": "4c0e27d4-39c1-4f14-94d3-c39939107f0e",
   "metadata": {},
   "outputs": [
    {
     "data": {
      "text/plain": [
       "dict_keys(['a', 'b'])"
      ]
     },
     "execution_count": 157,
     "metadata": {},
     "output_type": "execute_result"
    }
   ],
   "source": [
    "dd.keys()"
   ]
  },
  {
   "cell_type": "code",
   "execution_count": 159,
   "id": "7130a2ab-bcac-42de-a3c8-0e822188b940",
   "metadata": {},
   "outputs": [
    {
     "data": {
      "text/plain": [
       "dict_items([('a', 1), ('b', 2)])"
      ]
     },
     "execution_count": 159,
     "metadata": {},
     "output_type": "execute_result"
    }
   ],
   "source": [
    "dd.items()"
   ]
  },
  {
   "cell_type": "code",
   "execution_count": 161,
   "id": "dcc8c250-85bb-4f03-aaf2-6cab395c6ac3",
   "metadata": {},
   "outputs": [
    {
     "data": {
      "text/plain": [
       "dict_values([1, 2])"
      ]
     },
     "execution_count": 161,
     "metadata": {},
     "output_type": "execute_result"
    }
   ],
   "source": [
    "dd.values()"
   ]
  },
  {
   "cell_type": "code",
   "execution_count": 25,
   "id": "65045e64-13c0-4382-99c1-edca30be7d3d",
   "metadata": {},
   "outputs": [],
   "source": [
    "ab = [(1,2,4),(5,6,7),(8,9,10)]"
   ]
  },
  {
   "cell_type": "code",
   "execution_count": 27,
   "id": "d49d6d09-359e-436c-a20f-789152deb052",
   "metadata": {},
   "outputs": [
    {
     "data": {
      "text/plain": [
       "9"
      ]
     },
     "execution_count": 27,
     "metadata": {},
     "output_type": "execute_result"
    }
   ],
   "source": [
    "ab[2][1]"
   ]
  },
  {
   "cell_type": "code",
   "execution_count": 193,
   "id": "3b6da8f6-ca26-4f20-8eca-4773059c16d3",
   "metadata": {},
   "outputs": [
    {
     "name": "stdout",
     "output_type": "stream",
     "text": [
      "(1, 2, 4)\n",
      "(5, 6, 7)\n",
      "(8, 9, 10)\n"
     ]
    }
   ],
   "source": [
    "for item in ab:\n",
    "    print(item)"
   ]
  },
  {
   "cell_type": "code",
   "execution_count": 195,
   "id": "1f058b01-d932-4bbd-b808-9262aa3ec0f2",
   "metadata": {},
   "outputs": [
    {
     "name": "stdout",
     "output_type": "stream",
     "text": [
      "1\n",
      "5\n",
      "8\n"
     ]
    }
   ],
   "source": [
    "for (a,b,c) in ab:\n",
    "    print(a)"
   ]
  },
  {
   "cell_type": "code",
   "execution_count": 199,
   "id": "6d8ca155-2cf2-43d1-8b50-b6d97703049d",
   "metadata": {},
   "outputs": [
    {
     "name": "stdout",
     "output_type": "stream",
     "text": [
      "1\n",
      "4\n",
      "5\n",
      "7\n",
      "8\n",
      "10\n"
     ]
    }
   ],
   "source": [
    "for (a,b,c) in ab:\n",
    "    print(a) \n",
    "    print(c)"
   ]
  },
  {
   "cell_type": "code",
   "execution_count": null,
   "id": "1b36c6b7-15ca-4f52-aad6-71162df728ab",
   "metadata": {},
   "outputs": [],
   "source": []
  }
 ],
 "metadata": {
  "kernelspec": {
   "display_name": "Python [conda env:base] *",
   "language": "python",
   "name": "conda-base-py"
  },
  "language_info": {
   "codemirror_mode": {
    "name": "ipython",
    "version": 3
   },
   "file_extension": ".py",
   "mimetype": "text/x-python",
   "name": "python",
   "nbconvert_exporter": "python",
   "pygments_lexer": "ipython3",
   "version": "3.12.7"
  }
 },
 "nbformat": 4,
 "nbformat_minor": 5
}
